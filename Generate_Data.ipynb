{
  "nbformat": 4,
  "nbformat_minor": 0,
  "metadata": {
    "colab": {
      "provenance": []
    },
    "kernelspec": {
      "name": "python3",
      "display_name": "Python 3"
    },
    "language_info": {
      "name": "python"
    }
  },
  "cells": [
    {
      "cell_type": "code",
      "execution_count": 4,
      "metadata": {
        "id": "OA7lWyR7sI-m"
      },
      "outputs": [],
      "source": [
        "import uuid\n",
        "import random\n",
        "from datetime import datetime, timedelta\n",
        "\n",
        "produk_list = ['susu', 'roti', 'kopi', 'mie_instan']\n",
        "lokasi_list = ['Bandung', 'Jakarta', 'Yogyakarta']\n",
        "\n",
        "start_date = datetime(2025, 3, 1)\n",
        "end_date = datetime(2025, 12, 30)\n",
        "\n",
        "def random_date():\n",
        "    delta = end_date - start_date\n",
        "    random_days = random.randint(0, delta.days)\n",
        "    return (start_date + timedelta(days=random_days)).date()\n",
        "\n",
        "with open(\"load_data.cql\", \"w\") as f:\n",
        "    f.write(\"\"\"\n",
        "CREATE KEYSPACE IF NOT EXISTS groceries WITH replication = {'class':'SimpleStrategy', 'replication_factor':1};\n",
        "USE groceries;\n",
        "\n",
        "CREATE TABLE IF NOT EXISTS transaksi (\n",
        "    produk text,\n",
        "    tanggal date,\n",
        "    id UUID,\n",
        "    jumlah int,\n",
        "    harga float,\n",
        "    lokasi_toko text,\n",
        "    PRIMARY KEY ((produk), tanggal, id)\n",
        ");\\n\"\"\")\n",
        "\n",
        "    for _ in range(10000):\n",
        "        id_ = str(uuid.uuid4())a\n",
        "        tanggal = random_date()\n",
        "        produk = random.choice(produk_list)\n",
        "        jumlah = random.randint(1, 20)\n",
        "        harga = round(random.uniform(5000, 30000), 2)\n",
        "        lokasi = random.choice(lokasi_list)\n",
        "\n",
        "        f.write(f\"INSERT INTO groceries.transaksi (id, tanggal, produk, jumlah, harga, lokasi_toko) VALUES ({id_}, '{tanggal}', '{produk}', {jumlah}, {harga}, '{lokasi}');\\n\")\n"
      ]
    },
    {
      "cell_type": "code",
      "source": [
        "import json\n",
        "import random\n",
        "\n",
        "divisi_list = ['Kasir', 'Pelayanan', 'Manajer']\n",
        "bulan_list = [\"Januari\", \"Febuari\", \"Maret\", \"April\", \"Mei\", \"Juni\", \"Juli\", \"Agustus\", \"September\", \"Oktober\", \"November\", \"Desember\"]\n",
        "\n",
        "data = []\n",
        "\n",
        "for i in range(10000):\n",
        "    entry = {\n",
        "        \"nama\": f\"Pegawai_{i+1}\",\n",
        "        \"divisi\": random.choice(divisi_list),\n",
        "        \"jam_kerja\": random.randint(140, 250),\n",
        "        \"bulan\": random.choice(bulan_list),\n",
        "        \"pelanggan_dilayani\": random.randint(100, 500)\n",
        "    }\n",
        "    data.append(entry)\n",
        "\n",
        "with open(\"load_data.json\", \"w\") as f:\n",
        "    json.dump(data, f, indent=2)\n"
      ],
      "metadata": {
        "id": "MFCNKq1DsPW-"
      },
      "execution_count": null,
      "outputs": []
    }
  ]
}